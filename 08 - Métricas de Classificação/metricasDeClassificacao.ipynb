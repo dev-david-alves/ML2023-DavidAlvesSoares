{
  "cells": [
    {
      "attachments": {},
      "cell_type": "markdown",
      "metadata": {
        "id": "f3mBS5igmjC2"
      },
      "source": [
        "## Métricas de classificação (Descrição)\n",
        "\n",
        "1. Implemente as seguintes métricas de classificação:\n",
        "    - As métricas devem funcionar para classificação binária ou mesmo para múltiplas classes. Dica: você pode usar a função confusion_matrix do Scikit Learn para construir uma matriz de confusão e facilitar os seus cálculos. As métricas devem retornar a média ponderada com pesos baseados no suporte.\n",
        "        - accuracy\n",
        "        - precision\n",
        "        - recall\n",
        "        - f1_measure\n",
        "2. Divida de forma estratificada o Dataset Iris em apenas 10% para treino e 90% para teste. Essa divisão não é usual, mas vamos usar para tornar o problema mais desafiador.\n",
        "    - Faça a standardização dos dados.\n",
        "3. Crie um modelo preditivo de classificação multi-classe usando Logistic Regression.\n",
        "    - Dica: você pode usar os parâmetros: multi_class='auto', solver='lbfgs'\n",
        "4. Avalie usando suas implementações das métricas: accuracy, precision, recall e f1_measure.\n",
        "5. Desenhe a curva ROC para a classe Iris-virginica usando a implementação do sklearn.\n",
        "    - use a função roc_auc_score(y_true, y_score).\n",
        "    - preste atenção que y_score é diferente de y_pred.\n",
        "6. Calcule a métrica AUC (Area Under Curve) para a classe Iris-virginica usando a implementação do sklearn."
      ]
    },
    {
      "attachments": {},
      "cell_type": "markdown",
      "metadata": {
        "id": "AxwQrDAWmjC8"
      },
      "source": [
        "### Importações"
      ]
    },
    {
      "cell_type": "code",
      "execution_count": 1,
      "metadata": {
        "id": "IOV_Ep9ymjC8"
      },
      "outputs": [],
      "source": [
        "from sklearn.datasets import load_iris\n",
        "from sklearn.model_selection import train_test_split\n",
        "from sklearn.metrics import confusion_matrix\n",
        "from sklearn.preprocessing import StandardScaler\n",
        "from sklearn.linear_model import LogisticRegression"
      ]
    },
    {
      "attachments": {},
      "cell_type": "markdown",
      "metadata": {
        "id": "IrSPBHzFnf1V"
      },
      "source": [
        "### Importando, normalizando e dividindo os dados"
      ]
    },
    {
      "cell_type": "code",
      "execution_count": 2,
      "metadata": {
        "id": "dnShh5qBmjC9"
      },
      "outputs": [],
      "source": [
        "data = load_iris()\n",
        "X = data.data\n",
        "y = data.target\n",
        "targetNames = list(data.target_names)"
      ]
    },
    {
      "cell_type": "code",
      "execution_count": 3,
      "metadata": {
        "id": "oFcKdagroQiR"
      },
      "outputs": [],
      "source": [
        "X_train, X_test, y_train, y_test = train_test_split(X, y, test_size=0.9, stratify=y, random_state=42)\n",
        "\n",
        "scaler = StandardScaler()\n",
        "scaler.fit(X_train)\n",
        "\n",
        "X_train_std = scaler.transform(X_train)\n",
        "X_test_std = scaler.transform(X_test)"
      ]
    },
    {
      "attachments": {},
      "cell_type": "markdown",
      "metadata": {
        "id": "MrKYCE9gp_gl"
      },
      "source": [
        "### Treinando e avaliando o modelo utilizando Regressão Logística"
      ]
    },
    {
      "cell_type": "code",
      "execution_count": 4,
      "metadata": {
        "id": "ZVEiAJ7-qIrQ"
      },
      "outputs": [],
      "source": [
        "clf = LogisticRegression(multi_class='auto', solver='lbfgs', random_state=42)\n",
        "clf.fit(X_train_std, y_train)\n",
        "\n",
        "y_pred = clf.predict(X_test_std)"
      ]
    },
    {
      "attachments": {},
      "cell_type": "markdown",
      "metadata": {
        "id": "QPQJIVupzYCl"
      },
      "source": [
        "#### Calculando as métricas"
      ]
    },
    {
      "cell_type": "code",
      "execution_count": 5,
      "metadata": {
        "id": "92TnQOcn2pme"
      },
      "outputs": [
        {
          "data": {
            "text/plain": [
              "[{'TP': 44, 'FP': 0, 'TN': 90, 'FN': 1},\n",
              " {'TP': 41, 'FP': 3, 'TN': 87, 'FN': 4},\n",
              " {'TP': 43, 'FP': 4, 'TN': 86, 'FN': 2}]"
            ]
          },
          "execution_count": 5,
          "metadata": {},
          "output_type": "execute_result"
        }
      ],
      "source": [
        "def metricasMatrizConfusao(y_test, y_pred, targetNames):\n",
        "  result = []\n",
        "  for ind, _ in enumerate(targetNames):\n",
        "    tp = 0    # Verdadeiro positivo\n",
        "    fp = 0    # Falso positivo\n",
        "    tn = 0    # Verdadeiro negativo\n",
        "    fn = 0    # Falso negativo\n",
        "\n",
        "    for real, prev in zip(y_test, y_pred):\n",
        "      if real == ind and prev == ind:\n",
        "        tp += 1\n",
        "      elif real != ind and prev == ind:\n",
        "        fp += 1\n",
        "      elif real != ind and prev != ind:\n",
        "        tn += 1\n",
        "      elif real == ind and prev != ind:\n",
        "        fn += 1\n",
        "    result.append({'TP': tp, 'FP': fp, 'TN': tn, 'FN': fn})\n",
        "\n",
        "  return result\n",
        "\n",
        "result = metricasMatrizConfusao(y_test, y_pred, targetNames)\n",
        "result"
      ]
    },
    {
      "cell_type": "code",
      "execution_count": 6,
      "metadata": {},
      "outputs": [],
      "source": [
        "def calculateMetrics(result):\n",
        "  acc = []\n",
        "  prec = []\n",
        "  rec = []\n",
        "  f1m = []\n",
        "  for elem in result:\n",
        "    acc.append((elem['TP'] + elem['TN']) / (elem['TP'] + elem['FP'] + elem['TN'] + elem['FN']))\n",
        "    prec.append(elem['TP'] / (elem['TP'] + elem['FP']))\n",
        "    rec.append(elem['TP'] / (elem['TP'] + elem['FN']))\n",
        "    f1m.append(2 * (prec[-1] * rec[-1]) / (prec[-1] + rec[-1]))\n",
        "\n",
        "  result =  {\n",
        "    \"accurancy\": acc,\n",
        "    \"precision\": prec,\n",
        "    \"recall\": rec,\n",
        "    \"f1_measure\": f1m\n",
        "  }\n",
        "  \n",
        "  return result"
      ]
    },
    {
      "cell_type": "code",
      "execution_count": 7,
      "metadata": {},
      "outputs": [],
      "source": [
        "def calcMedias(values):\n",
        "    return sum(values) / len(values)"
      ]
    },
    {
      "cell_type": "code",
      "execution_count": 8,
      "metadata": {},
      "outputs": [
        {
          "name": "stdout",
          "output_type": "stream",
          "text": [
            "accurancy: [0.9925925925925926, 0.9481481481481482, 0.9555555555555556] média 0.9654320987654321\n",
            "precision: [1.0, 0.9318181818181818, 0.9148936170212766] média 0.948903932946486\n",
            "recall: [0.9777777777777777, 0.9111111111111111, 0.9555555555555556] média 0.9481481481481482\n",
            "f1_measure: [0.9887640449438202, 0.9213483146067416, 0.9347826086956522] média 0.9482983227487379\n"
          ]
        }
      ],
      "source": [
        "accurancy, precision, recall, f1_measure = calculateMetrics(result).values()\n",
        "\n",
        "print(f\"accurancy: {accurancy} média {calcMedias(accurancy)}\")\n",
        "print(f\"precision: {precision} média {calcMedias(precision)}\")\n",
        "print(f\"recall: {recall} média {calcMedias(recall)}\")\n",
        "print(f\"f1_measure: {f1_measure} média {calcMedias(f1_measure)}\")\n"
      ]
    },
    {
      "attachments": {},
      "cell_type": "markdown",
      "metadata": {
        "id": "WwP0w1dHzdJs"
      },
      "source": [
        "### Curva ROC - Classe Iris-virginica VS as outras classes"
      ]
    },
    {
      "cell_type": "code",
      "execution_count": 9,
      "metadata": {
        "id": "KBYUS9iRzffZ"
      },
      "outputs": [],
      "source": [
        "from sklearn.preprocessing import LabelBinarizer\n",
        "from sklearn.metrics import roc_auc_score"
      ]
    },
    {
      "cell_type": "code",
      "execution_count": 10,
      "metadata": {
        "colab": {
          "base_uri": "https://localhost:8080/"
        },
        "id": "HdZ3xh6hzgt-",
        "outputId": "fa103e8d-31ba-43a7-a497-b53925313d4f"
      },
      "outputs": [
        {
          "name": "stdout",
          "output_type": "stream",
          "text": [
            "ROC AUC score (One-vs-Rest): 0.99\n"
          ]
        }
      ],
      "source": [
        "y_score = clf.predict_proba(X_test_std)\n",
        "\n",
        "auc_ovr = roc_auc_score(y_test, y_score, multi_class=\"ovr\", average=\"micro\")\n",
        "print(f\"ROC AUC score (One-vs-Rest): {auc_ovr:.2f}\")"
      ]
    },
    {
      "cell_type": "code",
      "execution_count": 11,
      "metadata": {
        "colab": {
          "base_uri": "https://localhost:8080/",
          "height": 472
        },
        "id": "FJlY0eAY3sZg",
        "outputId": "aa8303bf-1b51-4ae9-9143-27493cb2f757"
      },
      "outputs": [
        {
          "data": {
            "image/png": "[encoded data removed]",
            "text/plain": [
              "<Figure size 640x480 with 1 Axes>"
            ]
          },
          "metadata": {},
          "output_type": "display_data"
        }
      ],
      "source": [
        "import matplotlib.pyplot as plt\n",
        "from sklearn.metrics import RocCurveDisplay\n",
        "\n",
        "label_binarizer = LabelBinarizer().fit(y_train)\n",
        "y_onHot_test = label_binarizer.transform(y_test)\n",
        "\n",
        "RocCurveDisplay.from_predictions(y_onHot_test[:, 2], y_score[:, 2], name=f\"virginica vs the rest\", color=\"purple\")\n",
        "plt.plot([0, 1], [0, 1], \"r--\", label=\"chance level (AUC = 0.5)\")\n",
        "plt.xlabel(\"False Positive Rate (FPR)\")\n",
        "plt.ylabel(\"True Positive Rate (TPR)\")\n",
        "plt.title(\"Curva ROC - Virginica vs (Setosa & Versicolor)\")\n",
        "plt.legend()\n",
        "plt.show()\n"
      ]
    }
  ],
  "metadata": {
    "colab": {
      "provenance": []
    },
    "kernelspec": {
      "display_name": "Python 3",
      "language": "python",
      "name": "python3"
    },
    "language_info": {
      "codemirror_mode": {
        "name": "ipython",
        "version": 3
      },
      "file_extension": ".py",
      "mimetype": "text/x-python",
      "name": "python",
      "nbconvert_exporter": "python",
      "pygments_lexer": "ipython3",
      "version": "3.10.6"
    },
    "orig_nbformat": 4
  },
  "nbformat": 4,
  "nbformat_minor": 0
}
