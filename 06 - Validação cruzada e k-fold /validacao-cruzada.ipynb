{
 "cells": [
  {
   "attachments": {},
   "cell_type": "markdown",
   "metadata": {},
   "source": [
    "# Validação Cruzada\n",
    "\n",
    "## Descrição\n",
    "\n",
    "Use os dados do [Breast Cancer Dataset](https://archive.ics.uci.edu/ml/datasets/Breast+Cancer+Coimbra) UCI Machine Learning Repository.  \n",
    "\n",
    "Discuta se é preciso normalizar os dados ou não. Se for preciso, faça a normalizaçao.  \n",
    " \n",
    "Você vai verificar qual dentre os algoritmos abaixo é o melhor para classificar os dados. Utilize 20% dos dados para teste estratificando pela classe.\n",
    "\n",
    "- Decision Tree  (criterion{“gini”, “entropy”, “log_loss”}, max_depth de 10 a 100 em multiplos de 10)\n",
    "- K vizinhos (K = 1,3,5,11,21,31)  \n",
    "\n",
    "Verifique que algoritmo tem a melhor acuracia media. Vamos usar o desenho experimental discutido em classe, de um k-fold para medir a acuracia media e um k-fold interno para escolher os hiperparâmetros (para cada conjunto de folds de treino). O algoritmo experimental esta descrito abaixo. Use 5-fold tanto para a avaliacao externa (para calcular a acuracia media) quanto para o loop interno (para escolher os hiperparametros).  \n",
    "\n",
    "Obtenha o melhor conjunto de hiperparametros, retreine o modelo usando todos os dados de treino e avalie o desempenho com os dados de teste."
   ]
  },
  {
   "attachments": {},
   "cell_type": "markdown",
   "metadata": {},
   "source": [
    "## Preparando os dados"
   ]
  },
  {
   "cell_type": "code",
   "execution_count": 1,
   "metadata": {},
   "outputs": [],
   "source": [
    "import numpy as np\n",
    "import pandas as pd\n",
    "from sklearn.model_selection import train_test_split\n",
    "from sklearn.preprocessing import StandardScaler\n",
    "from sklearn.metrics import accuracy_score"
   ]
  },
  {
   "cell_type": "code",
   "execution_count": 2,
   "metadata": {},
   "outputs": [],
   "source": [
    "dados = pd.read_csv('dataR2.csv')\n",
    "\n",
    "dados\n",
    "\n",
    "X = dados.iloc[:, : -1]\n",
    "y = dados['Classification']\n",
    "\n",
    "X_train, X_test, y_train, y_test = train_test_split(X, y, test_size=0.2, stratify=y, random_state=42)\n",
    "\n",
    "normalizacao = StandardScaler()\n",
    "normalizacao.fit(X_train)\n",
    "\n",
    "X_train_std = pd.DataFrame(normalizacao.transform(X_train), columns=X_train.columns.tolist())\n",
    "X_test_std = pd.DataFrame(normalizacao.transform(X_test), columns=X_train.columns.tolist())"
   ]
  },
  {
   "attachments": {},
   "cell_type": "markdown",
   "metadata": {},
   "source": [
    "## Decision Tree"
   ]
  },
  {
   "cell_type": "code",
   "execution_count": 3,
   "metadata": {},
   "outputs": [],
   "source": [
    "from sklearn.tree import DecisionTreeClassifier\n",
    "from sklearn.model_selection import GridSearchCV"
   ]
  },
  {
   "attachments": {},
   "cell_type": "markdown",
   "metadata": {},
   "source": [
    "#### Descobrindo e armazenando os melhores parâmetros para Árvore de Decisão"
   ]
  },
  {
   "cell_type": "code",
   "execution_count": 4,
   "metadata": {},
   "outputs": [
    {
     "name": "stdout",
     "output_type": "stream",
     "text": [
      "entropy 10\n"
     ]
    }
   ],
   "source": [
    "criterion = ['gini', 'entropy', 'log_loss']\n",
    "maxDepth = range(10, 101, 10)\n",
    "\n",
    "clf_cv = DecisionTreeClassifier(random_state=42)\n",
    "param_grid = {\"criterion\": np.array(criterion), \"max_depth\": np.array(maxDepth)}\n",
    "clf_gscv = GridSearchCV(clf_cv, param_grid, cv=5)\n",
    "\n",
    "# fit nos dados de treino\n",
    "clf_gscv.fit(X_train_std, y_train)\n",
    "\n",
    "# Checa quais sãos os parâmetros que geram a melhor acurácia média\n",
    "bestCriterion, bestMaxDepth = clf_gscv.best_params_.values()\n",
    "print(bestCriterion, bestMaxDepth)"
   ]
  },
  {
   "attachments": {},
   "cell_type": "markdown",
   "metadata": {},
   "source": [
    "#### Testando os dados de teste com os melhores parâmetros"
   ]
  },
  {
   "cell_type": "code",
   "execution_count": 5,
   "metadata": {},
   "outputs": [
    {
     "name": "stdout",
     "output_type": "stream",
     "text": [
      "Acurácia nos dados de teste: 75.00%\n"
     ]
    }
   ],
   "source": [
    "y_pred = clf_gscv.predict(X_test_std)\n",
    "score = accuracy_score(y_test, y_pred)\n",
    "\n",
    "print(\"Acurácia nos dados de teste: {0:.2f}%\".format(np.mean(score) * 100))\n"
   ]
  },
  {
   "attachments": {},
   "cell_type": "markdown",
   "metadata": {},
   "source": [
    "## KNeighborsClassifier (KNN)"
   ]
  },
  {
   "cell_type": "code",
   "execution_count": 6,
   "metadata": {},
   "outputs": [],
   "source": [
    "from sklearn.neighbors import KNeighborsClassifier\n",
    "from sklearn.model_selection import GridSearchCV"
   ]
  },
  {
   "attachments": {},
   "cell_type": "markdown",
   "metadata": {},
   "source": [
    "#### Descobrindo e armazenando os melhores parâmetros para o KNN"
   ]
  },
  {
   "cell_type": "code",
   "execution_count": 7,
   "metadata": {},
   "outputs": [
    {
     "name": "stdout",
     "output_type": "stream",
     "text": [
      "21\n"
     ]
    }
   ],
   "source": [
    "kVizinhos = [1, 3, 5, 11, 21, 31]\n",
    "\n",
    "knn_cv = KNeighborsClassifier()\n",
    "param_grid = {\"n_neighbors\": np.array(kVizinhos)}\n",
    "knn_gscv = GridSearchCV(knn_cv, param_grid, cv=5)\n",
    "\n",
    "# fit nos dados de treino\n",
    "knn_gscv.fit(X_train_std, y_train)\n",
    "\n",
    "# Checa quais sãos os parâmetros que geram a melhor acurácia média\n",
    "bestN = knn_gscv.best_params_[\"n_neighbors\"]\n",
    "print(bestN)"
   ]
  },
  {
   "attachments": {},
   "cell_type": "markdown",
   "metadata": {},
   "source": [
    "#### Testando os dados de teste com os melhores parâmetros"
   ]
  },
  {
   "cell_type": "code",
   "execution_count": 8,
   "metadata": {},
   "outputs": [
    {
     "name": "stdout",
     "output_type": "stream",
     "text": [
      "Acurácia nos dados de teste: 66.67%\n"
     ]
    }
   ],
   "source": [
    "y_pred = knn_gscv.predict(X_test_std)\n",
    "score = accuracy_score(y_test, y_pred)\n",
    "\n",
    "print(\"Acurácia nos dados de teste: {0:.2f}%\".format(np.mean(score) * 100))"
   ]
  },
  {
   "attachments": {},
   "cell_type": "markdown",
   "metadata": {},
   "source": [
    "## Comparação dos resultados\n",
    "\n",
    "|Modelo|Acurácia nos dados de teste (melhores hiperparâmetros)|Hiperparâmetros|\n",
    "|------|-----------------------------------|---------------|\n",
    "|Decision Tree|75.00%|Criterion: entropy; Max-depth: 10|\n",
    "|KNN|66.67%|K-vizinhos: 21|"
   ]
  }
 ],
 "metadata": {
  "kernelspec": {
   "display_name": "Python 3",
   "language": "python",
   "name": "python3"
  },
  "language_info": {
   "codemirror_mode": {
    "name": "ipython",
    "version": 3
   },
   "file_extension": ".py",
   "mimetype": "text/x-python",
   "name": "python",
   "nbconvert_exporter": "python",
   "pygments_lexer": "ipython3",
   "version": "3.10.6"
  },
  "orig_nbformat": 4
 },
 "nbformat": 4,
 "nbformat_minor": 2
}
