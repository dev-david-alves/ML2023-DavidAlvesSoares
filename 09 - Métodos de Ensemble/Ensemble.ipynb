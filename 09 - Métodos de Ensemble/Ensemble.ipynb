{
 "cells": [
  {
   "attachments": {},
   "cell_type": "markdown",
   "metadata": {},
   "source": [
    "# Ensemble\n",
    "\n",
    "## Descrição do exercício\n",
    "1. Avalie o desempenho dos algoritmos Ensemble com DecisionTree, RandomForest e Ada Boosting para o dataset \"Wisconsin Diagnostic Breast Cancer (WDBC)\". Separe os dados em treino (80%) e teste (20%).\n",
    "1. Realize o escalonamento das features usando o StandardScaler.\n",
    "1. Use um valor constante para o parâmetro random_state e ajuste o modelo com as seguintes combinações de hiper-parâmetros para RandomForest e Ada Boosting.\n",
    "1. Utilize o método Grid-Search com 5-fold cross-validation para ajustar os hiper-parametros do modelo. Vrie os hiper parametros em: learning_rate: 0.1, 0.05, 0.01 ,0.5; n_estimators: 50, 100, 200; max_depth: 3, 5, 7\n",
    "1. Retreine o modelo com a melhor combinação de parametros usando o dataset de treino por completo e obtenha as métricas de acurácia, recall, F1-score e precision. Apresente o valor das médias e de cada classe individualmete. Discuta os resultados, avaliando o comportamento de cada modelo em função das métricas.\n",
    "1. Mostre a importância das features de acordo com o melhor modelo de classificação e o melhor modelo encontrado dentre os 3 usados nesta lista.\n"
   ]
  },
  {
   "attachments": {},
   "cell_type": "markdown",
   "metadata": {},
   "source": [
    "### Importações Gerais"
   ]
  },
  {
   "cell_type": "code",
   "execution_count": 1,
   "metadata": {},
   "outputs": [],
   "source": [
    "import pandas as pd\n",
    "from sklearn.model_selection import train_test_split, GridSearchCV\n",
    "from sklearn.metrics import confusion_matrix\n",
    "from sklearn.preprocessing import StandardScaler"
   ]
  },
  {
   "attachments": {},
   "cell_type": "markdown",
   "metadata": {},
   "source": [
    "### Tratando os dados"
   ]
  },
  {
   "cell_type": "code",
   "execution_count": 2,
   "metadata": {},
   "outputs": [],
   "source": [
    "data = pd.read_csv('./data/data.csv')\n",
    "X = data.drop(columns=['diagnosis', 'Unnamed: 32'])\n",
    "y = data['diagnosis']\n",
    "X_train, X_test, y_train, y_test = train_test_split(X, y, test_size=0.2, random_state=42)"
   ]
  },
  {
   "cell_type": "code",
   "execution_count": 3,
   "metadata": {},
   "outputs": [
    {
     "name": "stdout",
     "output_type": "stream",
     "text": [
      "X shape: (569, 31) y shape: (569,)\n"
     ]
    }
   ],
   "source": [
    "print(f'X shape: {X.shape}', f'y shape: {y.shape}')"
   ]
  },
  {
   "cell_type": "code",
   "execution_count": 4,
   "metadata": {},
   "outputs": [],
   "source": [
    "normalizacao = StandardScaler()\n",
    "X_train_std = normalizacao.fit_transform(X_train)\n",
    "X_test_std = normalizacao.transform(X_test)"
   ]
  },
  {
   "attachments": {},
   "cell_type": "markdown",
   "metadata": {},
   "source": [
    "### Ajustando os hiper-parâmetros"
   ]
  },
  {
   "cell_type": "code",
   "execution_count": 5,
   "metadata": {},
   "outputs": [],
   "source": [
    "from sklearn.ensemble import RandomForestClassifier, AdaBoostClassifier"
   ]
  },
  {
   "cell_type": "code",
   "execution_count": 6,
   "metadata": {},
   "outputs": [
    {
     "name": "stdout",
     "output_type": "stream",
     "text": [
      "Best Params: {'max_depth': 7, 'n_estimators': 200, 'random_state': 42}\n",
      "Best Score:  95.6%\n"
     ]
    }
   ],
   "source": [
    "rfc = RandomForestClassifier()\n",
    "\n",
    "param_grid = {\n",
    "    \"n_estimators\": [50, 100, 200],\n",
    "    \"max_depth\": [3, 5, 7],\n",
    "    \"random_state\": [42]\n",
    "}\n",
    "\n",
    "best_rfc = GridSearchCV(rfc, param_grid, cv=5)\n",
    "best_rfc.fit(X_train_std, y_train)\n",
    "\n",
    "print(f'Best Params: {best_rfc.best_params_}')\n",
    "print(f'Best Score:  {round(best_rfc.best_score_ * 100, 2)}%')"
   ]
  },
  {
   "cell_type": "code",
   "execution_count": 7,
   "metadata": {},
   "outputs": [
    {
     "name": "stdout",
     "output_type": "stream",
     "text": [
      "Best Params: {'learning_rate': 0.5, 'n_estimators': 100, 'random_state': 42}\n",
      "Best Score:  96.7%\n"
     ]
    }
   ],
   "source": [
    "abc = AdaBoostClassifier()\n",
    "\n",
    "param_grid = {\n",
    "    \"learning_rate\": [0.1, 0.05, 0.01 ,0.5],\n",
    "    \"n_estimators\": [50, 100, 200],\n",
    "    \"random_state\": [42]\n",
    "}\n",
    "\n",
    "best_abc = GridSearchCV(abc, param_grid, cv=5)\n",
    "best_abc.fit(X_train_std, y_train)\n",
    "\n",
    "print(f'Best Params: {best_abc.best_params_}')\n",
    "print(f'Best Score:  {round(best_abc.best_score_ * 100, 2)}%')"
   ]
  },
  {
   "attachments": {},
   "cell_type": "markdown",
   "metadata": {},
   "source": [
    "### Retreinando os modelos e obtendo as métricas"
   ]
  },
  {
   "cell_type": "code",
   "execution_count": 8,
   "metadata": {},
   "outputs": [],
   "source": [
    "def calcularMetricas(tn, fp, fn, tp):\n",
    "    acc =  (tp + tn) / (tp + fp + tn + fn) if (tp + fp + tn + fn) > 0 else 0\n",
    "    prec =  tp / (tp + fp) if (tp + fp) > 0 else 0\n",
    "    rec =  tp / (tp + fn) if (tp + fn) > 0 else 0\n",
    "    f1 =  2 * prec * rec / (prec + rec) if (prec + rec) > 0 else 0\n",
    "    print(f'Acc: {round(acc * 100, 2)}%')\n",
    "    print(f'prec: {round(prec * 100, 2)}%')\n",
    "    print(f'rec: {round(rec * 100, 2)}%')\n",
    "    print(f'f1: {round(f1 * 100, 2)}%')"
   ]
  },
  {
   "cell_type": "code",
   "execution_count": 9,
   "metadata": {},
   "outputs": [],
   "source": [
    "best_rfc.fit(X_train_std, y_train)\n",
    "y_pred_rfc = best_rfc.predict(X_test_std)\n",
    "best_abc.fit(X_train_std, y_train)\n",
    "y_pred_abc = best_abc.predict(X_test_std)"
   ]
  },
  {
   "cell_type": "code",
   "execution_count": 10,
   "metadata": {},
   "outputs": [
    {
     "name": "stdout",
     "output_type": "stream",
     "text": [
      "Acc: 96.49%\n",
      "prec: 97.56%\n",
      "rec: 93.02%\n",
      "f1: 95.24%\n"
     ]
    }
   ],
   "source": [
    "tn, fp, fn, tp = confusion_matrix(y_test, y_pred_rfc).ravel()\n",
    "calcularMetricas(tn, fp, fn, tp)"
   ]
  },
  {
   "cell_type": "code",
   "execution_count": 11,
   "metadata": {},
   "outputs": [
    {
     "name": "stdout",
     "output_type": "stream",
     "text": [
      "Acc: 96.49%\n",
      "prec: 95.35%\n",
      "rec: 95.35%\n",
      "f1: 95.35%\n"
     ]
    }
   ],
   "source": [
    "tn, fp, fn, tp = confusion_matrix(y_test, y_pred_abc).ravel()\n",
    "calcularMetricas(tn, fp, fn, tp)"
   ]
  },
  {
   "cell_type": "code",
   "execution_count": null,
   "metadata": {},
   "outputs": [],
   "source": []
  },
  {
   "attachments": {},
   "cell_type": "markdown",
   "metadata": {},
   "source": [
    "### Conclusão"
   ]
  }
 ],
 "metadata": {
  "kernelspec": {
   "display_name": "Python 3",
   "language": "python",
   "name": "python3"
  },
  "language_info": {
   "codemirror_mode": {
    "name": "ipython",
    "version": 3
   },
   "file_extension": ".py",
   "mimetype": "text/x-python",
   "name": "python",
   "nbconvert_exporter": "python",
   "pygments_lexer": "ipython3",
   "version": "3.10.6"
  },
  "orig_nbformat": 4
 },
 "nbformat": 4,
 "nbformat_minor": 2
}
