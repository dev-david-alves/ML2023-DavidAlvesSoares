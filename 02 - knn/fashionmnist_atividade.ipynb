{
  "nbformat": 4,
  "nbformat_minor": 0,
  "metadata": {
    "colab": {
      "provenance": []
    },
    "kernelspec": {
      "name": "python3",
      "display_name": "Python 3"
    },
    "language_info": {
      "name": "python"
    }
  },
  "cells": [
    {
      "cell_type": "code",
      "source": [
        "from google.colab import drive\n",
        "drive.mount(\"/content/gdrive\")"
      ],
      "metadata": {
        "id": "cqBRYoNp3oIX"
      },
      "execution_count": null,
      "outputs": []
    },
    {
      "cell_type": "code",
      "source": [
        "def load_mnist(path, kind='train'):\n",
        "    import os\n",
        "    import gzip\n",
        "    import numpy as np\n",
        "\n",
        "    \"\"\"Load MNIST data from `path`\"\"\"\n",
        "    labels_path = os.path.join(path,\n",
        "                               '%s-labels-idx1-ubyte.gz'\n",
        "                               % kind)\n",
        "    images_path = os.path.join(path,\n",
        "                               '%s-images-idx3-ubyte.gz'\n",
        "                               % kind)\n",
        "\n",
        "    with gzip.open(labels_path, 'rb') as lbpath:\n",
        "        labels = np.frombuffer(lbpath.read(), dtype=np.uint8,\n",
        "                               offset=8)\n",
        "\n",
        "    with gzip.open(images_path, 'rb') as imgpath:\n",
        "        images = np.frombuffer(imgpath.read(), dtype=np.uint8,\n",
        "                               offset=16).reshape(len(labels), 784)\n",
        "\n",
        "    return images, labels"
      ],
      "metadata": {
        "id": "14h0qMTq55El"
      },
      "execution_count": null,
      "outputs": []
    },
    {
      "cell_type": "code",
      "execution_count": null,
      "metadata": {
        "id": "mYXlIQLf20BD"
      },
      "outputs": [],
      "source": [
        "import matplotlib.pyplot as plt\n",
        "from sklearn.neighbors import KNeighborsClassifier\n",
        "from sklearn.model_selection import train_test_split\n",
        "\n",
        "X_train, y_train = load_mnist('/content/gdrive/MyDrive/ML/fashionmnist', kind='train')\n",
        "X_test, y_test = load_mnist('/content/gdrive/MyDrive/ML/fashionmnist', kind='t10k')\n",
        "\n",
        "# Pegando 10% dos dados de treino para validação\n",
        "X_train, X_validation, y_train, y_validation = train_test_split(X_train, y_train, test_size=0.1, random_state=42)"
      ]
    },
    {
      "cell_type": "markdown",
      "source": [
        "# Métricas e valores para k"
      ],
      "metadata": {
        "id": "YyieBr6NE8EA"
      }
    },
    {
      "cell_type": "code",
      "source": [
        "k_values = range(1, 30)\n",
        "\n",
        "accuraciesEuc = []\n",
        "accuraciesMan = []\n",
        "accuraciesChe = []"
      ],
      "metadata": {
        "id": "lei5VXBHFFTr"
      },
      "execution_count": null,
      "outputs": []
    },
    {
      "cell_type": "markdown",
      "source": [
        "### Treinando o modelo utilizando a metrica = \"euclidean\""
      ],
      "metadata": {
        "id": "Bbp5T1NH3M07"
      }
    },
    {
      "cell_type": "code",
      "source": [
        "for k in k_values:\n",
        "    knn = KNeighborsClassifier(n_neighbors = k, metric = \"euclidean\")\n",
        "    knn.fit(X_train, y_train)\n",
        "    # Avaliando precisão do modelo e atualizando lista de precisão\n",
        "    score = knn.score(X_validation, y_validation)\n",
        "    accuraciesEuc.append(score)\n",
        "\n",
        "# Mostrando a precisão com os dados de validação utilizando um gráfico\n",
        "plt.plot(k_values, accuraciesEuc, marker = 'o')\n",
        "plt.xlabel(\"Valores de K\")\n",
        "plt.ylabel(\"Precisão\")\n",
        "plt.show()"
      ],
      "metadata": {
        "id": "xpAhZ86V3DfD"
      },
      "execution_count": null,
      "outputs": []
    },
    {
      "cell_type": "markdown",
      "source": [
        "### Treinando o modelo utilizando a metrica = \"manhattan\""
      ],
      "metadata": {
        "id": "dCXoPa6rGT_e"
      }
    },
    {
      "cell_type": "code",
      "source": [
        "for k in k_values:\n",
        "    knn = KNeighborsClassifier(n_neighbors = k, metric = \"manhattan\")\n",
        "    knn.fit(X_train, y_train)\n",
        "    # Avaliando precisão do modelo e atualizando lista de precisão\n",
        "    score = knn.score(X_validation, y_validation)\n",
        "    accuraciesMan.append(score)\n",
        "\n",
        "# Mostrando a precisão com os dados de validação utilizando um gráfico\n",
        "plt.plot(k_values, accuraciesMan, marker = 'o')\n",
        "plt.xlabel(\"Valores de K\")\n",
        "plt.ylabel(\"Precisão\")\n",
        "plt.show()"
      ],
      "metadata": {
        "id": "wjBji1K-GCFY"
      },
      "execution_count": null,
      "outputs": []
    },
    {
      "cell_type": "markdown",
      "source": [
        "### Treinando o modelo utilizando a metrica = \"chebyshev\""
      ],
      "metadata": {
        "id": "1nEVkWUcGYZH"
      }
    },
    {
      "cell_type": "code",
      "source": [
        "for k in k_values:\n",
        "    knn = KNeighborsClassifier(n_neighbors = k, metric = \"chebyshev\")\n",
        "    knn.fit(X_train, y_train)\n",
        "    # Avaliando precisão do modelo e atualizando lista de precisão\n",
        "    score = knn.score(X_validation, y_validation)\n",
        "    accuraciesChe.append(score)\n",
        "\n",
        "# Mostrando a precisão com os dados de validação utilizando um gráfico\n",
        "plt.plot(k_values, accuraciesChe, marker = 'o')\n",
        "plt.xlabel(\"Valores de K\")\n",
        "plt.ylabel(\"Precisão\")\n",
        "plt.show()"
      ],
      "metadata": {
        "id": "KjTkQL6WGJr4"
      },
      "execution_count": null,
      "outputs": []
    },
    {
      "cell_type": "markdown",
      "source": [
        "Encontrando o melhor valor de K e a melhor métrica"
      ],
      "metadata": {
        "id": "lmselxjHIDPk"
      }
    },
    {
      "cell_type": "code",
      "source": [
        "import numpy as np\n",
        "\n",
        "# euclidean melhor K\n",
        "arr = np.array(accuraciesEuc)\n",
        "index = arr.argmax() + 1\n",
        "best = arr[arr.argmax()]\n",
        "euclidean = [\"euclidean\", index, best]\n",
        "\n",
        "# manhattan melhor K\n",
        "arr = np.array(accuraciesMan)\n",
        "index = arr.argmax() + 1\n",
        "best = arr[arr.argmax()]\n",
        "manhattan = [\"manhattan\", index, best]\n",
        "\n",
        "# chebyshev melhor K\n",
        "arr = np.array(accuraciesChe)\n",
        "index = arr.argmax() + 1\n",
        "best = arr[arr.argmax()]\n",
        "chebyshev = [\"chebyshev\", index, best]\n",
        "\n",
        "# Melhor K\n",
        "maxValue = [euclidean, manhattan, chebyshev]\n",
        "maxValue.sort(key = lambda x: x[2])\n",
        "bestKM = maxValue[-1]"
      ],
      "metadata": {
        "id": "E7F8fTBVIF51"
      },
      "execution_count": null,
      "outputs": []
    },
    {
      "cell_type": "markdown",
      "source": [
        "Treinando utilizando o melhor k e a melhor métrica"
      ],
      "metadata": {
        "id": "H_lEu554JfdK"
      }
    },
    {
      "cell_type": "code",
      "source": [
        "knn = KNeighborsClassifier(n_neighbors = bestKM[1], metric = bestKM[0])\n",
        "knn.fit(X_train, y_train)\n",
        "# Avaliando precisão do modelo e atualizando lista de precisão\n",
        "score = knn.score(X_test, y_test)\n",
        "print(score)"
      ],
      "metadata": {
        "id": "Cs8L8pRyJqaW"
      },
      "execution_count": null,
      "outputs": []
    }
  ]
}